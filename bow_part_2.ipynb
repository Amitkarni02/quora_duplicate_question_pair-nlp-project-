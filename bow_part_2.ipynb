{
 "cells": [
  {
   "cell_type": "code",
   "execution_count": 23,
   "id": "d1f1d821",
   "metadata": {},
   "outputs": [],
   "source": [
    "import numpy as np\n",
    "import pandas as pd\n",
    "import matplotlib.pyplot as plt\n",
    "import seaborn as sns\n",
    "\n",
    "import warnings\n",
    "warnings.filterwarnings('ignore')\n"
   ]
  },
  {
   "cell_type": "code",
   "execution_count": 2,
   "id": "949edc27",
   "metadata": {},
   "outputs": [],
   "source": [
    "df=pd.read_csv('quora_duplicate_questions.csv')"
   ]
  },
  {
   "cell_type": "code",
   "execution_count": 3,
   "id": "6c510fe7",
   "metadata": {},
   "outputs": [
    {
     "data": {
      "text/html": [
       "<div>\n",
       "<style scoped>\n",
       "    .dataframe tbody tr th:only-of-type {\n",
       "        vertical-align: middle;\n",
       "    }\n",
       "\n",
       "    .dataframe tbody tr th {\n",
       "        vertical-align: top;\n",
       "    }\n",
       "\n",
       "    .dataframe thead th {\n",
       "        text-align: right;\n",
       "    }\n",
       "</style>\n",
       "<table border=\"1\" class=\"dataframe\">\n",
       "  <thead>\n",
       "    <tr style=\"text-align: right;\">\n",
       "      <th></th>\n",
       "      <th>index</th>\n",
       "      <th>id</th>\n",
       "      <th>qid1</th>\n",
       "      <th>qid2</th>\n",
       "      <th>question1</th>\n",
       "      <th>question2</th>\n",
       "      <th>is_duplicate</th>\n",
       "    </tr>\n",
       "  </thead>\n",
       "  <tbody>\n",
       "    <tr>\n",
       "      <th>0</th>\n",
       "      <td>0</td>\n",
       "      <td>0</td>\n",
       "      <td>1</td>\n",
       "      <td>2</td>\n",
       "      <td>What is the step by step guide to invest in sh...</td>\n",
       "      <td>What is the step by step guide to invest in sh...</td>\n",
       "      <td>0</td>\n",
       "    </tr>\n",
       "    <tr>\n",
       "      <th>1</th>\n",
       "      <td>1</td>\n",
       "      <td>1</td>\n",
       "      <td>3</td>\n",
       "      <td>4</td>\n",
       "      <td>What is the story of Kohinoor (Koh-i-Noor) Dia...</td>\n",
       "      <td>What would happen if the Indian government sto...</td>\n",
       "      <td>0</td>\n",
       "    </tr>\n",
       "    <tr>\n",
       "      <th>2</th>\n",
       "      <td>2</td>\n",
       "      <td>2</td>\n",
       "      <td>5</td>\n",
       "      <td>6</td>\n",
       "      <td>How can I increase the speed of my internet co...</td>\n",
       "      <td>How can Internet speed be increased by hacking...</td>\n",
       "      <td>0</td>\n",
       "    </tr>\n",
       "    <tr>\n",
       "      <th>3</th>\n",
       "      <td>3</td>\n",
       "      <td>6</td>\n",
       "      <td>13</td>\n",
       "      <td>14</td>\n",
       "      <td>Should I buy tiago?</td>\n",
       "      <td>What keeps childern active and far from phone ...</td>\n",
       "      <td>0</td>\n",
       "    </tr>\n",
       "    <tr>\n",
       "      <th>4</th>\n",
       "      <td>4</td>\n",
       "      <td>7</td>\n",
       "      <td>15</td>\n",
       "      <td>16</td>\n",
       "      <td>How can I be a good geologist?</td>\n",
       "      <td>What should I do to be a great geologist?</td>\n",
       "      <td>1</td>\n",
       "    </tr>\n",
       "  </tbody>\n",
       "</table>\n",
       "</div>"
      ],
      "text/plain": [
       "   index  id  qid1  qid2                                          question1  \\\n",
       "0      0   0     1     2  What is the step by step guide to invest in sh...   \n",
       "1      1   1     3     4  What is the story of Kohinoor (Koh-i-Noor) Dia...   \n",
       "2      2   2     5     6  How can I increase the speed of my internet co...   \n",
       "3      3   6    13    14                                Should I buy tiago?   \n",
       "4      4   7    15    16                     How can I be a good geologist?   \n",
       "\n",
       "                                           question2  is_duplicate  \n",
       "0  What is the step by step guide to invest in sh...             0  \n",
       "1  What would happen if the Indian government sto...             0  \n",
       "2  How can Internet speed be increased by hacking...             0  \n",
       "3  What keeps childern active and far from phone ...             0  \n",
       "4          What should I do to be a great geologist?             1  "
      ]
     },
     "execution_count": 3,
     "metadata": {},
     "output_type": "execute_result"
    }
   ],
   "source": [
    "df.head()\n"
   ]
  },
  {
   "cell_type": "code",
   "execution_count": 6,
   "id": "38a4f7fe",
   "metadata": {},
   "outputs": [],
   "source": [
    "df.drop(columns={'index'},inplace=True)"
   ]
  },
  {
   "cell_type": "code",
   "execution_count": 7,
   "id": "1f4b0d85",
   "metadata": {},
   "outputs": [
    {
     "data": {
      "text/plain": [
       "(345036, 6)"
      ]
     },
     "execution_count": 7,
     "metadata": {},
     "output_type": "execute_result"
    }
   ],
   "source": [
    "df.shape"
   ]
  },
  {
   "cell_type": "code",
   "execution_count": 8,
   "id": "0a24fbf2",
   "metadata": {},
   "outputs": [],
   "source": [
    "new_df = df.sample(30000,random_state=2)\n"
   ]
  },
  {
   "cell_type": "code",
   "execution_count": 9,
   "id": "507b1d1e",
   "metadata": {},
   "outputs": [
    {
     "data": {
      "text/plain": [
       "id              0\n",
       "qid1            0\n",
       "qid2            0\n",
       "question1       0\n",
       "question2       0\n",
       "is_duplicate    0\n",
       "dtype: int64"
      ]
     },
     "execution_count": 9,
     "metadata": {},
     "output_type": "execute_result"
    }
   ],
   "source": [
    "new_df.isnull().sum()"
   ]
  },
  {
   "cell_type": "code",
   "execution_count": 10,
   "id": "fc4287fe",
   "metadata": {},
   "outputs": [
    {
     "data": {
      "text/plain": [
       "0"
      ]
     },
     "execution_count": 10,
     "metadata": {},
     "output_type": "execute_result"
    }
   ],
   "source": [
    "new_df.duplicated().sum()"
   ]
  },
  {
   "cell_type": "code",
   "execution_count": 11,
   "id": "d16bda75",
   "metadata": {},
   "outputs": [
    {
     "name": "stdout",
     "output_type": "stream",
     "text": [
      "is_duplicate\n",
      "0    18175\n",
      "1    11825\n",
      "Name: count, dtype: int64\n",
      "is_duplicate\n",
      "0    60.583333\n",
      "1    39.416667\n",
      "Name: count, dtype: float64\n"
     ]
    },
    {
     "data": {
      "text/plain": [
       "<Axes: xlabel='is_duplicate'>"
      ]
     },
     "execution_count": 11,
     "metadata": {},
     "output_type": "execute_result"
    },
    {
     "data": {
      "image/png": "[encoded data removed]",
      "text/plain": [
       "<Figure size 640x480 with 1 Axes>"
      ]
     },
     "metadata": {},
     "output_type": "display_data"
    }
   ],
   "source": [
    "# Distribution of duplicate and non-duplicate questions\n",
    "\n",
    "print(new_df['is_duplicate'].value_counts())\n",
    "print((new_df['is_duplicate'].value_counts()/new_df['is_duplicate'].count())*100)\n",
    "new_df['is_duplicate'].value_counts().plot(kind='bar')"
   ]
  },
  {
   "cell_type": "code",
   "execution_count": 12,
   "id": "ca3e685d",
   "metadata": {},
   "outputs": [
    {
     "name": "stdout",
     "output_type": "stream",
     "text": [
      "Number of unique questions 59838\n",
      "Number of questions getting repeated 148\n"
     ]
    }
   ],
   "source": [
    "# Repeated questions\n",
    "\n",
    "qid = pd.Series(new_df['qid1'].tolist() + new_df['qid2'].tolist())\n",
    "print('Number of unique questions',np.unique(qid).shape[0])\n",
    "x = qid.value_counts()>1\n",
    "print('Number of questions getting repeated',x[x].shape[0])"
   ]
  },
  {
   "cell_type": "code",
   "execution_count": 13,
   "id": "96380c98",
   "metadata": {},
   "outputs": [
    {
     "data": {
      "image/png": "[encoded data removed]",
      "text/plain": [
       "<Figure size 640x480 with 1 Axes>"
      ]
     },
     "metadata": {},
     "output_type": "display_data"
    }
   ],
   "source": [
    "# Repeated questions histogram\n",
    "\n",
    "plt.hist(qid.value_counts().values,bins=160)\n",
    "plt.yscale('log')\n",
    "plt.show()"
   ]
  },
  {
   "cell_type": "code",
   "execution_count": 14,
   "id": "87360b23",
   "metadata": {},
   "outputs": [],
   "source": [
    "# Feature Engineering\n",
    "\n",
    "new_df['q1_len'] = new_df['question1'].str.len() \n",
    "new_df['q2_len'] = new_df['question2'].str.len()"
   ]
  },
  {
   "cell_type": "code",
   "execution_count": 15,
   "id": "e6fb85e8",
   "metadata": {},
   "outputs": [
    {
     "data": {
      "text/html": [
       "<div>\n",
       "<style scoped>\n",
       "    .dataframe tbody tr th:only-of-type {\n",
       "        vertical-align: middle;\n",
       "    }\n",
       "\n",
       "    .dataframe tbody tr th {\n",
       "        vertical-align: top;\n",
       "    }\n",
       "\n",
       "    .dataframe thead th {\n",
       "        text-align: right;\n",
       "    }\n",
       "</style>\n",
       "<table border=\"1\" class=\"dataframe\">\n",
       "  <thead>\n",
       "    <tr style=\"text-align: right;\">\n",
       "      <th></th>\n",
       "      <th>id</th>\n",
       "      <th>qid1</th>\n",
       "      <th>qid2</th>\n",
       "      <th>question1</th>\n",
       "      <th>question2</th>\n",
       "      <th>is_duplicate</th>\n",
       "      <th>q1_len</th>\n",
       "      <th>q2_len</th>\n",
       "    </tr>\n",
       "  </thead>\n",
       "  <tbody>\n",
       "    <tr>\n",
       "      <th>297803</th>\n",
       "      <td>349003</td>\n",
       "      <td>683776</td>\n",
       "      <td>683777</td>\n",
       "      <td>How many gallons are in a 100 lb propane tank?</td>\n",
       "      <td>How much propane can a 2.5 lb tank hold?</td>\n",
       "      <td>0</td>\n",
       "      <td>46</td>\n",
       "      <td>40</td>\n",
       "    </tr>\n",
       "    <tr>\n",
       "      <th>99927</th>\n",
       "      <td>117051</td>\n",
       "      <td>232011</td>\n",
       "      <td>232012</td>\n",
       "      <td>Is it theoretically possible to travel through...</td>\n",
       "      <td>Is it possible to travel to alternate universe?</td>\n",
       "      <td>1</td>\n",
       "      <td>65</td>\n",
       "      <td>47</td>\n",
       "    </tr>\n",
       "    <tr>\n",
       "      <th>175435</th>\n",
       "      <td>205528</td>\n",
       "      <td>405483</td>\n",
       "      <td>405484</td>\n",
       "      <td>How do you serve pierogi?</td>\n",
       "      <td>What are some great ways to serve pierogies?</td>\n",
       "      <td>1</td>\n",
       "      <td>25</td>\n",
       "      <td>44</td>\n",
       "    </tr>\n",
       "    <tr>\n",
       "      <th>268694</th>\n",
       "      <td>314880</td>\n",
       "      <td>617951</td>\n",
       "      <td>617952</td>\n",
       "      <td>Which is the best attack strategy for TH5 in C...</td>\n",
       "      <td>Clash of Clans: How can I make my base stronge...</td>\n",
       "      <td>0</td>\n",
       "      <td>60</td>\n",
       "      <td>64</td>\n",
       "    </tr>\n",
       "    <tr>\n",
       "      <th>232503</th>\n",
       "      <td>272524</td>\n",
       "      <td>535944</td>\n",
       "      <td>535945</td>\n",
       "      <td>Which company is better for a fresher to join ...</td>\n",
       "      <td>Which is better to join as a fresher: Cognizan...</td>\n",
       "      <td>0</td>\n",
       "      <td>81</td>\n",
       "      <td>61</td>\n",
       "    </tr>\n",
       "  </tbody>\n",
       "</table>\n",
       "</div>"
      ],
      "text/plain": [
       "            id    qid1    qid2  \\\n",
       "297803  349003  683776  683777   \n",
       "99927   117051  232011  232012   \n",
       "175435  205528  405483  405484   \n",
       "268694  314880  617951  617952   \n",
       "232503  272524  535944  535945   \n",
       "\n",
       "                                                question1  \\\n",
       "297803     How many gallons are in a 100 lb propane tank?   \n",
       "99927   Is it theoretically possible to travel through...   \n",
       "175435                          How do you serve pierogi?   \n",
       "268694  Which is the best attack strategy for TH5 in C...   \n",
       "232503  Which company is better for a fresher to join ...   \n",
       "\n",
       "                                                question2  is_duplicate  \\\n",
       "297803           How much propane can a 2.5 lb tank hold?             0   \n",
       "99927     Is it possible to travel to alternate universe?             1   \n",
       "175435       What are some great ways to serve pierogies?             1   \n",
       "268694  Clash of Clans: How can I make my base stronge...             0   \n",
       "232503  Which is better to join as a fresher: Cognizan...             0   \n",
       "\n",
       "        q1_len  q2_len  \n",
       "297803      46      40  \n",
       "99927       65      47  \n",
       "175435      25      44  \n",
       "268694      60      64  \n",
       "232503      81      61  "
      ]
     },
     "execution_count": 15,
     "metadata": {},
     "output_type": "execute_result"
    }
   ],
   "source": [
    "new_df.head()\n"
   ]
  },
  {
   "cell_type": "code",
   "execution_count": 16,
   "id": "87b0265e",
   "metadata": {},
   "outputs": [
    {
     "data": {
      "text/html": [
       "<div>\n",
       "<style scoped>\n",
       "    .dataframe tbody tr th:only-of-type {\n",
       "        vertical-align: middle;\n",
       "    }\n",
       "\n",
       "    .dataframe tbody tr th {\n",
       "        vertical-align: top;\n",
       "    }\n",
       "\n",
       "    .dataframe thead th {\n",
       "        text-align: right;\n",
       "    }\n",
       "</style>\n",
       "<table border=\"1\" class=\"dataframe\">\n",
       "  <thead>\n",
       "    <tr style=\"text-align: right;\">\n",
       "      <th></th>\n",
       "      <th>id</th>\n",
       "      <th>qid1</th>\n",
       "      <th>qid2</th>\n",
       "      <th>question1</th>\n",
       "      <th>question2</th>\n",
       "      <th>is_duplicate</th>\n",
       "      <th>q1_len</th>\n",
       "      <th>q2_len</th>\n",
       "      <th>q1_num_words</th>\n",
       "      <th>q2_num_words</th>\n",
       "    </tr>\n",
       "  </thead>\n",
       "  <tbody>\n",
       "    <tr>\n",
       "      <th>297803</th>\n",
       "      <td>349003</td>\n",
       "      <td>683776</td>\n",
       "      <td>683777</td>\n",
       "      <td>How many gallons are in a 100 lb propane tank?</td>\n",
       "      <td>How much propane can a 2.5 lb tank hold?</td>\n",
       "      <td>0</td>\n",
       "      <td>46</td>\n",
       "      <td>40</td>\n",
       "      <td>10</td>\n",
       "      <td>9</td>\n",
       "    </tr>\n",
       "    <tr>\n",
       "      <th>99927</th>\n",
       "      <td>117051</td>\n",
       "      <td>232011</td>\n",
       "      <td>232012</td>\n",
       "      <td>Is it theoretically possible to travel through...</td>\n",
       "      <td>Is it possible to travel to alternate universe?</td>\n",
       "      <td>1</td>\n",
       "      <td>65</td>\n",
       "      <td>47</td>\n",
       "      <td>9</td>\n",
       "      <td>8</td>\n",
       "    </tr>\n",
       "    <tr>\n",
       "      <th>175435</th>\n",
       "      <td>205528</td>\n",
       "      <td>405483</td>\n",
       "      <td>405484</td>\n",
       "      <td>How do you serve pierogi?</td>\n",
       "      <td>What are some great ways to serve pierogies?</td>\n",
       "      <td>1</td>\n",
       "      <td>25</td>\n",
       "      <td>44</td>\n",
       "      <td>5</td>\n",
       "      <td>8</td>\n",
       "    </tr>\n",
       "    <tr>\n",
       "      <th>268694</th>\n",
       "      <td>314880</td>\n",
       "      <td>617951</td>\n",
       "      <td>617952</td>\n",
       "      <td>Which is the best attack strategy for TH5 in C...</td>\n",
       "      <td>Clash of Clans: How can I make my base stronge...</td>\n",
       "      <td>0</td>\n",
       "      <td>60</td>\n",
       "      <td>64</td>\n",
       "      <td>12</td>\n",
       "      <td>12</td>\n",
       "    </tr>\n",
       "    <tr>\n",
       "      <th>232503</th>\n",
       "      <td>272524</td>\n",
       "      <td>535944</td>\n",
       "      <td>535945</td>\n",
       "      <td>Which company is better for a fresher to join ...</td>\n",
       "      <td>Which is better to join as a fresher: Cognizan...</td>\n",
       "      <td>0</td>\n",
       "      <td>81</td>\n",
       "      <td>61</td>\n",
       "      <td>15</td>\n",
       "      <td>11</td>\n",
       "    </tr>\n",
       "  </tbody>\n",
       "</table>\n",
       "</div>"
      ],
      "text/plain": [
       "            id    qid1    qid2  \\\n",
       "297803  349003  683776  683777   \n",
       "99927   117051  232011  232012   \n",
       "175435  205528  405483  405484   \n",
       "268694  314880  617951  617952   \n",
       "232503  272524  535944  535945   \n",
       "\n",
       "                                                question1  \\\n",
       "297803     How many gallons are in a 100 lb propane tank?   \n",
       "99927   Is it theoretically possible to travel through...   \n",
       "175435                          How do you serve pierogi?   \n",
       "268694  Which is the best attack strategy for TH5 in C...   \n",
       "232503  Which company is better for a fresher to join ...   \n",
       "\n",
       "                                                question2  is_duplicate  \\\n",
       "297803           How much propane can a 2.5 lb tank hold?             0   \n",
       "99927     Is it possible to travel to alternate universe?             1   \n",
       "175435       What are some great ways to serve pierogies?             1   \n",
       "268694  Clash of Clans: How can I make my base stronge...             0   \n",
       "232503  Which is better to join as a fresher: Cognizan...             0   \n",
       "\n",
       "        q1_len  q2_len  q1_num_words  q2_num_words  \n",
       "297803      46      40            10             9  \n",
       "99927       65      47             9             8  \n",
       "175435      25      44             5             8  \n",
       "268694      60      64            12            12  \n",
       "232503      81      61            15            11  "
      ]
     },
     "execution_count": 16,
     "metadata": {},
     "output_type": "execute_result"
    }
   ],
   "source": [
    "new_df['q1_num_words'] = new_df['question1'].apply(lambda row: len(row.split(\" \")))\n",
    "new_df['q2_num_words'] = new_df['question2'].apply(lambda row: len(row.split(\" \")))\n",
    "new_df.head()"
   ]
  },
  {
   "cell_type": "code",
   "execution_count": 17,
   "id": "e798c996",
   "metadata": {},
   "outputs": [],
   "source": [
    "def common_words(row):\n",
    "    w1 = set(map(lambda word: word.lower().strip(), row['question1'].split(\" \")))\n",
    "    w2 = set(map(lambda word: word.lower().strip(), row['question2'].split(\" \")))    \n",
    "    return len(w1 & w2)"
   ]
  },
  {
   "cell_type": "code",
   "execution_count": 18,
   "id": "fa7d0bc8",
   "metadata": {},
   "outputs": [
    {
     "data": {
      "text/html": [
       "<div>\n",
       "<style scoped>\n",
       "    .dataframe tbody tr th:only-of-type {\n",
       "        vertical-align: middle;\n",
       "    }\n",
       "\n",
       "    .dataframe tbody tr th {\n",
       "        vertical-align: top;\n",
       "    }\n",
       "\n",
       "    .dataframe thead th {\n",
       "        text-align: right;\n",
       "    }\n",
       "</style>\n",
       "<table border=\"1\" class=\"dataframe\">\n",
       "  <thead>\n",
       "    <tr style=\"text-align: right;\">\n",
       "      <th></th>\n",
       "      <th>id</th>\n",
       "      <th>qid1</th>\n",
       "      <th>qid2</th>\n",
       "      <th>question1</th>\n",
       "      <th>question2</th>\n",
       "      <th>is_duplicate</th>\n",
       "      <th>q1_len</th>\n",
       "      <th>q2_len</th>\n",
       "      <th>q1_num_words</th>\n",
       "      <th>q2_num_words</th>\n",
       "      <th>word_common</th>\n",
       "    </tr>\n",
       "  </thead>\n",
       "  <tbody>\n",
       "    <tr>\n",
       "      <th>297803</th>\n",
       "      <td>349003</td>\n",
       "      <td>683776</td>\n",
       "      <td>683777</td>\n",
       "      <td>How many gallons are in a 100 lb propane tank?</td>\n",
       "      <td>How much propane can a 2.5 lb tank hold?</td>\n",
       "      <td>0</td>\n",
       "      <td>46</td>\n",
       "      <td>40</td>\n",
       "      <td>10</td>\n",
       "      <td>9</td>\n",
       "      <td>4</td>\n",
       "    </tr>\n",
       "    <tr>\n",
       "      <th>99927</th>\n",
       "      <td>117051</td>\n",
       "      <td>232011</td>\n",
       "      <td>232012</td>\n",
       "      <td>Is it theoretically possible to travel through...</td>\n",
       "      <td>Is it possible to travel to alternate universe?</td>\n",
       "      <td>1</td>\n",
       "      <td>65</td>\n",
       "      <td>47</td>\n",
       "      <td>9</td>\n",
       "      <td>8</td>\n",
       "      <td>6</td>\n",
       "    </tr>\n",
       "    <tr>\n",
       "      <th>175435</th>\n",
       "      <td>205528</td>\n",
       "      <td>405483</td>\n",
       "      <td>405484</td>\n",
       "      <td>How do you serve pierogi?</td>\n",
       "      <td>What are some great ways to serve pierogies?</td>\n",
       "      <td>1</td>\n",
       "      <td>25</td>\n",
       "      <td>44</td>\n",
       "      <td>5</td>\n",
       "      <td>8</td>\n",
       "      <td>1</td>\n",
       "    </tr>\n",
       "    <tr>\n",
       "      <th>268694</th>\n",
       "      <td>314880</td>\n",
       "      <td>617951</td>\n",
       "      <td>617952</td>\n",
       "      <td>Which is the best attack strategy for TH5 in C...</td>\n",
       "      <td>Clash of Clans: How can I make my base stronge...</td>\n",
       "      <td>0</td>\n",
       "      <td>60</td>\n",
       "      <td>64</td>\n",
       "      <td>12</td>\n",
       "      <td>12</td>\n",
       "      <td>2</td>\n",
       "    </tr>\n",
       "    <tr>\n",
       "      <th>232503</th>\n",
       "      <td>272524</td>\n",
       "      <td>535944</td>\n",
       "      <td>535945</td>\n",
       "      <td>Which company is better for a fresher to join ...</td>\n",
       "      <td>Which is better to join as a fresher: Cognizan...</td>\n",
       "      <td>0</td>\n",
       "      <td>81</td>\n",
       "      <td>61</td>\n",
       "      <td>15</td>\n",
       "      <td>11</td>\n",
       "      <td>8</td>\n",
       "    </tr>\n",
       "  </tbody>\n",
       "</table>\n",
       "</div>"
      ],
      "text/plain": [
       "            id    qid1    qid2  \\\n",
       "297803  349003  683776  683777   \n",
       "99927   117051  232011  232012   \n",
       "175435  205528  405483  405484   \n",
       "268694  314880  617951  617952   \n",
       "232503  272524  535944  535945   \n",
       "\n",
       "                                                question1  \\\n",
       "297803     How many gallons are in a 100 lb propane tank?   \n",
       "99927   Is it theoretically possible to travel through...   \n",
       "175435                          How do you serve pierogi?   \n",
       "268694  Which is the best attack strategy for TH5 in C...   \n",
       "232503  Which company is better for a fresher to join ...   \n",
       "\n",
       "                                                question2  is_duplicate  \\\n",
       "297803           How much propane can a 2.5 lb tank hold?             0   \n",
       "99927     Is it possible to travel to alternate universe?             1   \n",
       "175435       What are some great ways to serve pierogies?             1   \n",
       "268694  Clash of Clans: How can I make my base stronge...             0   \n",
       "232503  Which is better to join as a fresher: Cognizan...             0   \n",
       "\n",
       "        q1_len  q2_len  q1_num_words  q2_num_words  word_common  \n",
       "297803      46      40            10             9            4  \n",
       "99927       65      47             9             8            6  \n",
       "175435      25      44             5             8            1  \n",
       "268694      60      64            12            12            2  \n",
       "232503      81      61            15            11            8  "
      ]
     },
     "execution_count": 18,
     "metadata": {},
     "output_type": "execute_result"
    }
   ],
   "source": [
    "new_df['word_common'] = new_df.apply(common_words, axis=1)\n",
    "new_df.head()"
   ]
  },
  {
   "cell_type": "code",
   "execution_count": 19,
   "id": "baf0b411",
   "metadata": {},
   "outputs": [],
   "source": [
    "def total_words(row):\n",
    "    w1 = set(map(lambda word: word.lower().strip(), row['question1'].split(\" \")))\n",
    "    w2 = set(map(lambda word: word.lower().strip(), row['question2'].split(\" \")))    \n",
    "    return (len(w1) + len(w2))"
   ]
  },
  {
   "cell_type": "code",
   "execution_count": 20,
   "id": "c7155d17",
   "metadata": {},
   "outputs": [
    {
     "data": {
      "text/html": [
       "<div>\n",
       "<style scoped>\n",
       "    .dataframe tbody tr th:only-of-type {\n",
       "        vertical-align: middle;\n",
       "    }\n",
       "\n",
       "    .dataframe tbody tr th {\n",
       "        vertical-align: top;\n",
       "    }\n",
       "\n",
       "    .dataframe thead th {\n",
       "        text-align: right;\n",
       "    }\n",
       "</style>\n",
       "<table border=\"1\" class=\"dataframe\">\n",
       "  <thead>\n",
       "    <tr style=\"text-align: right;\">\n",
       "      <th></th>\n",
       "      <th>id</th>\n",
       "      <th>qid1</th>\n",
       "      <th>qid2</th>\n",
       "      <th>question1</th>\n",
       "      <th>question2</th>\n",
       "      <th>is_duplicate</th>\n",
       "      <th>q1_len</th>\n",
       "      <th>q2_len</th>\n",
       "      <th>q1_num_words</th>\n",
       "      <th>q2_num_words</th>\n",
       "      <th>word_common</th>\n",
       "      <th>word_total</th>\n",
       "    </tr>\n",
       "  </thead>\n",
       "  <tbody>\n",
       "    <tr>\n",
       "      <th>297803</th>\n",
       "      <td>349003</td>\n",
       "      <td>683776</td>\n",
       "      <td>683777</td>\n",
       "      <td>How many gallons are in a 100 lb propane tank?</td>\n",
       "      <td>How much propane can a 2.5 lb tank hold?</td>\n",
       "      <td>0</td>\n",
       "      <td>46</td>\n",
       "      <td>40</td>\n",
       "      <td>10</td>\n",
       "      <td>9</td>\n",
       "      <td>4</td>\n",
       "      <td>19</td>\n",
       "    </tr>\n",
       "    <tr>\n",
       "      <th>99927</th>\n",
       "      <td>117051</td>\n",
       "      <td>232011</td>\n",
       "      <td>232012</td>\n",
       "      <td>Is it theoretically possible to travel through...</td>\n",
       "      <td>Is it possible to travel to alternate universe?</td>\n",
       "      <td>1</td>\n",
       "      <td>65</td>\n",
       "      <td>47</td>\n",
       "      <td>9</td>\n",
       "      <td>8</td>\n",
       "      <td>6</td>\n",
       "      <td>16</td>\n",
       "    </tr>\n",
       "    <tr>\n",
       "      <th>175435</th>\n",
       "      <td>205528</td>\n",
       "      <td>405483</td>\n",
       "      <td>405484</td>\n",
       "      <td>How do you serve pierogi?</td>\n",
       "      <td>What are some great ways to serve pierogies?</td>\n",
       "      <td>1</td>\n",
       "      <td>25</td>\n",
       "      <td>44</td>\n",
       "      <td>5</td>\n",
       "      <td>8</td>\n",
       "      <td>1</td>\n",
       "      <td>13</td>\n",
       "    </tr>\n",
       "    <tr>\n",
       "      <th>268694</th>\n",
       "      <td>314880</td>\n",
       "      <td>617951</td>\n",
       "      <td>617952</td>\n",
       "      <td>Which is the best attack strategy for TH5 in C...</td>\n",
       "      <td>Clash of Clans: How can I make my base stronge...</td>\n",
       "      <td>0</td>\n",
       "      <td>60</td>\n",
       "      <td>64</td>\n",
       "      <td>12</td>\n",
       "      <td>12</td>\n",
       "      <td>2</td>\n",
       "      <td>24</td>\n",
       "    </tr>\n",
       "    <tr>\n",
       "      <th>232503</th>\n",
       "      <td>272524</td>\n",
       "      <td>535944</td>\n",
       "      <td>535945</td>\n",
       "      <td>Which company is better for a fresher to join ...</td>\n",
       "      <td>Which is better to join as a fresher: Cognizan...</td>\n",
       "      <td>0</td>\n",
       "      <td>81</td>\n",
       "      <td>61</td>\n",
       "      <td>15</td>\n",
       "      <td>11</td>\n",
       "      <td>8</td>\n",
       "      <td>26</td>\n",
       "    </tr>\n",
       "  </tbody>\n",
       "</table>\n",
       "</div>"
      ],
      "text/plain": [
       "            id    qid1    qid2  \\\n",
       "297803  349003  683776  683777   \n",
       "99927   117051  232011  232012   \n",
       "175435  205528  405483  405484   \n",
       "268694  314880  617951  617952   \n",
       "232503  272524  535944  535945   \n",
       "\n",
       "                                                question1  \\\n",
       "297803     How many gallons are in a 100 lb propane tank?   \n",
       "99927   Is it theoretically possible to travel through...   \n",
       "175435                          How do you serve pierogi?   \n",
       "268694  Which is the best attack strategy for TH5 in C...   \n",
       "232503  Which company is better for a fresher to join ...   \n",
       "\n",
       "                                                question2  is_duplicate  \\\n",
       "297803           How much propane can a 2.5 lb tank hold?             0   \n",
       "99927     Is it possible to travel to alternate universe?             1   \n",
       "175435       What are some great ways to serve pierogies?             1   \n",
       "268694  Clash of Clans: How can I make my base stronge...             0   \n",
       "232503  Which is better to join as a fresher: Cognizan...             0   \n",
       "\n",
       "        q1_len  q2_len  q1_num_words  q2_num_words  word_common  word_total  \n",
       "297803      46      40            10             9            4          19  \n",
       "99927       65      47             9             8            6          16  \n",
       "175435      25      44             5             8            1          13  \n",
       "268694      60      64            12            12            2          24  \n",
       "232503      81      61            15            11            8          26  "
      ]
     },
     "execution_count": 20,
     "metadata": {},
     "output_type": "execute_result"
    }
   ],
   "source": [
    "new_df['word_total'] = new_df.apply(total_words, axis=1)\n",
    "new_df.head()"
   ]
  },
  {
   "cell_type": "code",
   "execution_count": 21,
   "id": "a6a6e5cf",
   "metadata": {},
   "outputs": [
    {
     "data": {
      "text/html": [
       "<div>\n",
       "<style scoped>\n",
       "    .dataframe tbody tr th:only-of-type {\n",
       "        vertical-align: middle;\n",
       "    }\n",
       "\n",
       "    .dataframe tbody tr th {\n",
       "        vertical-align: top;\n",
       "    }\n",
       "\n",
       "    .dataframe thead th {\n",
       "        text-align: right;\n",
       "    }\n",
       "</style>\n",
       "<table border=\"1\" class=\"dataframe\">\n",
       "  <thead>\n",
       "    <tr style=\"text-align: right;\">\n",
       "      <th></th>\n",
       "      <th>id</th>\n",
       "      <th>qid1</th>\n",
       "      <th>qid2</th>\n",
       "      <th>question1</th>\n",
       "      <th>question2</th>\n",
       "      <th>is_duplicate</th>\n",
       "      <th>q1_len</th>\n",
       "      <th>q2_len</th>\n",
       "      <th>q1_num_words</th>\n",
       "      <th>q2_num_words</th>\n",
       "      <th>word_common</th>\n",
       "      <th>word_total</th>\n",
       "      <th>word_share</th>\n",
       "    </tr>\n",
       "  </thead>\n",
       "  <tbody>\n",
       "    <tr>\n",
       "      <th>297803</th>\n",
       "      <td>349003</td>\n",
       "      <td>683776</td>\n",
       "      <td>683777</td>\n",
       "      <td>How many gallons are in a 100 lb propane tank?</td>\n",
       "      <td>How much propane can a 2.5 lb tank hold?</td>\n",
       "      <td>0</td>\n",
       "      <td>46</td>\n",
       "      <td>40</td>\n",
       "      <td>10</td>\n",
       "      <td>9</td>\n",
       "      <td>4</td>\n",
       "      <td>19</td>\n",
       "      <td>0.21</td>\n",
       "    </tr>\n",
       "    <tr>\n",
       "      <th>99927</th>\n",
       "      <td>117051</td>\n",
       "      <td>232011</td>\n",
       "      <td>232012</td>\n",
       "      <td>Is it theoretically possible to travel through...</td>\n",
       "      <td>Is it possible to travel to alternate universe?</td>\n",
       "      <td>1</td>\n",
       "      <td>65</td>\n",
       "      <td>47</td>\n",
       "      <td>9</td>\n",
       "      <td>8</td>\n",
       "      <td>6</td>\n",
       "      <td>16</td>\n",
       "      <td>0.38</td>\n",
       "    </tr>\n",
       "    <tr>\n",
       "      <th>175435</th>\n",
       "      <td>205528</td>\n",
       "      <td>405483</td>\n",
       "      <td>405484</td>\n",
       "      <td>How do you serve pierogi?</td>\n",
       "      <td>What are some great ways to serve pierogies?</td>\n",
       "      <td>1</td>\n",
       "      <td>25</td>\n",
       "      <td>44</td>\n",
       "      <td>5</td>\n",
       "      <td>8</td>\n",
       "      <td>1</td>\n",
       "      <td>13</td>\n",
       "      <td>0.08</td>\n",
       "    </tr>\n",
       "    <tr>\n",
       "      <th>268694</th>\n",
       "      <td>314880</td>\n",
       "      <td>617951</td>\n",
       "      <td>617952</td>\n",
       "      <td>Which is the best attack strategy for TH5 in C...</td>\n",
       "      <td>Clash of Clans: How can I make my base stronge...</td>\n",
       "      <td>0</td>\n",
       "      <td>60</td>\n",
       "      <td>64</td>\n",
       "      <td>12</td>\n",
       "      <td>12</td>\n",
       "      <td>2</td>\n",
       "      <td>24</td>\n",
       "      <td>0.08</td>\n",
       "    </tr>\n",
       "    <tr>\n",
       "      <th>232503</th>\n",
       "      <td>272524</td>\n",
       "      <td>535944</td>\n",
       "      <td>535945</td>\n",
       "      <td>Which company is better for a fresher to join ...</td>\n",
       "      <td>Which is better to join as a fresher: Cognizan...</td>\n",
       "      <td>0</td>\n",
       "      <td>81</td>\n",
       "      <td>61</td>\n",
       "      <td>15</td>\n",
       "      <td>11</td>\n",
       "      <td>8</td>\n",
       "      <td>26</td>\n",
       "      <td>0.31</td>\n",
       "    </tr>\n",
       "  </tbody>\n",
       "</table>\n",
       "</div>"
      ],
      "text/plain": [
       "            id    qid1    qid2  \\\n",
       "297803  349003  683776  683777   \n",
       "99927   117051  232011  232012   \n",
       "175435  205528  405483  405484   \n",
       "268694  314880  617951  617952   \n",
       "232503  272524  535944  535945   \n",
       "\n",
       "                                                question1  \\\n",
       "297803     How many gallons are in a 100 lb propane tank?   \n",
       "99927   Is it theoretically possible to travel through...   \n",
       "175435                          How do you serve pierogi?   \n",
       "268694  Which is the best attack strategy for TH5 in C...   \n",
       "232503  Which company is better for a fresher to join ...   \n",
       "\n",
       "                                                question2  is_duplicate  \\\n",
       "297803           How much propane can a 2.5 lb tank hold?             0   \n",
       "99927     Is it possible to travel to alternate universe?             1   \n",
       "175435       What are some great ways to serve pierogies?             1   \n",
       "268694  Clash of Clans: How can I make my base stronge...             0   \n",
       "232503  Which is better to join as a fresher: Cognizan...             0   \n",
       "\n",
       "        q1_len  q2_len  q1_num_words  q2_num_words  word_common  word_total  \\\n",
       "297803      46      40            10             9            4          19   \n",
       "99927       65      47             9             8            6          16   \n",
       "175435      25      44             5             8            1          13   \n",
       "268694      60      64            12            12            2          24   \n",
       "232503      81      61            15            11            8          26   \n",
       "\n",
       "        word_share  \n",
       "297803        0.21  \n",
       "99927         0.38  \n",
       "175435        0.08  \n",
       "268694        0.08  \n",
       "232503        0.31  "
      ]
     },
     "execution_count": 21,
     "metadata": {},
     "output_type": "execute_result"
    }
   ],
   "source": [
    "new_df['word_share'] = round(new_df['word_common']/new_df['word_total'],2)\n",
    "new_df.head()"
   ]
  },
  {
   "cell_type": "code",
   "execution_count": 24,
   "id": "22d1bf56",
   "metadata": {},
   "outputs": [
    {
     "name": "stdout",
     "output_type": "stream",
     "text": [
      "minimum characters 1\n",
      "maximum characters 310\n",
      "average num of characters 54\n"
     ]
    },
    {
     "data": {
      "image/png": "[encoded data removed]",
      "text/plain": [
       "<Figure size 500x500 with 1 Axes>"
      ]
     },
     "metadata": {},
     "output_type": "display_data"
    }
   ],
   "source": [
    "# Analysis of features\n",
    "sns.displot(new_df['q1_len'])\n",
    "print('minimum characters',new_df['q1_len'].min())\n",
    "print('maximum characters',new_df['q1_len'].max())\n",
    "print('average num of characters',int(new_df['q1_len'].mean()))"
   ]
  },
  {
   "cell_type": "code",
   "execution_count": 25,
   "id": "d794a4e7",
   "metadata": {},
   "outputs": [
    {
     "name": "stdout",
     "output_type": "stream",
     "text": [
      "minimum characters 4\n",
      "maximum characters 307\n",
      "average num of characters 54\n"
     ]
    },
    {
     "data": {
      "image/png": "[encoded data removed]",
      "text/plain": [
       "<Figure size 500x500 with 1 Axes>"
      ]
     },
     "metadata": {},
     "output_type": "display_data"
    }
   ],
   "source": [
    "sns.displot(new_df['q2_len'])\n",
    "print('minimum characters',new_df['q2_len'].min())\n",
    "print('maximum characters',new_df['q2_len'].max())\n",
    "print('average num of characters',int(new_df['q2_len'].mean()))"
   ]
  },
  {
   "cell_type": "code",
   "execution_count": 26,
   "id": "e26c17ed",
   "metadata": {},
   "outputs": [
    {
     "name": "stdout",
     "output_type": "stream",
     "text": [
      "minimum words 1\n",
      "maximum words 66\n",
      "average num of words 10\n"
     ]
    },
    {
     "data": {
      "image/png": "[encoded data removed]",
      "text/plain": [
       "<Figure size 500x500 with 1 Axes>"
      ]
     },
     "metadata": {},
     "output_type": "display_data"
    }
   ],
   "source": [
    "sns.displot(new_df['q1_num_words'])\n",
    "print('minimum words',new_df['q1_num_words'].min())\n",
    "print('maximum words',new_df['q1_num_words'].max())\n",
    "print('average num of words',int(new_df['q1_num_words'].mean()))"
   ]
  },
  {
   "cell_type": "code",
   "execution_count": 27,
   "id": "e3b3b7fd",
   "metadata": {},
   "outputs": [
    {
     "name": "stdout",
     "output_type": "stream",
     "text": [
      "minimum words 1\n",
      "maximum words 63\n",
      "average num of words 10\n"
     ]
    },
    {
     "data": {
      "image/png": "[encoded data removed]",
      "text/plain": [
       "<Figure size 500x500 with 1 Axes>"
      ]
     },
     "metadata": {},
     "output_type": "display_data"
    }
   ],
   "source": [
    "sns.displot(new_df['q2_num_words'])\n",
    "print('minimum words',new_df['q2_num_words'].min())\n",
    "print('maximum words',new_df['q2_num_words'].max())\n",
    "print('average num of words',int(new_df['q2_num_words'].mean()))"
   ]
  },
  {
   "cell_type": "code",
   "execution_count": 28,
   "id": "e9baae62",
   "metadata": {},
   "outputs": [
    {
     "data": {
      "image/png": "[encoded data removed]",
      "text/plain": [
       "<Figure size 640x480 with 1 Axes>"
      ]
     },
     "metadata": {},
     "output_type": "display_data"
    }
   ],
   "source": [
    "# common words\n",
    "sns.distplot(new_df[new_df['is_duplicate'] == 0]['word_common'],label='non duplicate')\n",
    "sns.distplot(new_df[new_df['is_duplicate'] == 1]['word_common'],label='duplicate')\n",
    "plt.legend()\n",
    "plt.show()"
   ]
  },
  {
   "cell_type": "code",
   "execution_count": 29,
   "id": "ad86303a",
   "metadata": {},
   "outputs": [
    {
     "data": {
      "image/png": "[encoded data removed]",
      "text/plain": [
       "<Figure size 640x480 with 1 Axes>"
      ]
     },
     "metadata": {},
     "output_type": "display_data"
    }
   ],
   "source": [
    "# total words\n",
    "sns.distplot(new_df[new_df['is_duplicate'] == 0]['word_total'],label='non duplicate')\n",
    "sns.distplot(new_df[new_df['is_duplicate'] == 1]['word_total'],label='duplicate')\n",
    "plt.legend()\n",
    "plt.show()"
   ]
  },
  {
   "cell_type": "code",
   "execution_count": 30,
   "id": "199e1438",
   "metadata": {},
   "outputs": [
    {
     "data": {
      "image/png": "[encoded data removed]",
      "text/plain": [
       "<Figure size 640x480 with 1 Axes>"
      ]
     },
     "metadata": {},
     "output_type": "display_data"
    }
   ],
   "source": [
    "# word share\n",
    "sns.distplot(new_df[new_df['is_duplicate'] == 0]['word_share'],label='non duplicate')\n",
    "sns.distplot(new_df[new_df['is_duplicate'] == 1]['word_share'],label='duplicate')\n",
    "plt.legend()\n",
    "plt.show()"
   ]
  },
  {
   "cell_type": "code",
   "execution_count": 31,
   "id": "70c2b787",
   "metadata": {},
   "outputs": [
    {
     "data": {
      "text/html": [
       "<div>\n",
       "<style scoped>\n",
       "    .dataframe tbody tr th:only-of-type {\n",
       "        vertical-align: middle;\n",
       "    }\n",
       "\n",
       "    .dataframe tbody tr th {\n",
       "        vertical-align: top;\n",
       "    }\n",
       "\n",
       "    .dataframe thead th {\n",
       "        text-align: right;\n",
       "    }\n",
       "</style>\n",
       "<table border=\"1\" class=\"dataframe\">\n",
       "  <thead>\n",
       "    <tr style=\"text-align: right;\">\n",
       "      <th></th>\n",
       "      <th>question1</th>\n",
       "      <th>question2</th>\n",
       "    </tr>\n",
       "  </thead>\n",
       "  <tbody>\n",
       "    <tr>\n",
       "      <th>297803</th>\n",
       "      <td>How many gallons are in a 100 lb propane tank?</td>\n",
       "      <td>How much propane can a 2.5 lb tank hold?</td>\n",
       "    </tr>\n",
       "    <tr>\n",
       "      <th>99927</th>\n",
       "      <td>Is it theoretically possible to travel through...</td>\n",
       "      <td>Is it possible to travel to alternate universe?</td>\n",
       "    </tr>\n",
       "    <tr>\n",
       "      <th>175435</th>\n",
       "      <td>How do you serve pierogi?</td>\n",
       "      <td>What are some great ways to serve pierogies?</td>\n",
       "    </tr>\n",
       "    <tr>\n",
       "      <th>268694</th>\n",
       "      <td>Which is the best attack strategy for TH5 in C...</td>\n",
       "      <td>Clash of Clans: How can I make my base stronge...</td>\n",
       "    </tr>\n",
       "    <tr>\n",
       "      <th>232503</th>\n",
       "      <td>Which company is better for a fresher to join ...</td>\n",
       "      <td>Which is better to join as a fresher: Cognizan...</td>\n",
       "    </tr>\n",
       "  </tbody>\n",
       "</table>\n",
       "</div>"
      ],
      "text/plain": [
       "                                                question1  \\\n",
       "297803     How many gallons are in a 100 lb propane tank?   \n",
       "99927   Is it theoretically possible to travel through...   \n",
       "175435                          How do you serve pierogi?   \n",
       "268694  Which is the best attack strategy for TH5 in C...   \n",
       "232503  Which company is better for a fresher to join ...   \n",
       "\n",
       "                                                question2  \n",
       "297803           How much propane can a 2.5 lb tank hold?  \n",
       "99927     Is it possible to travel to alternate universe?  \n",
       "175435       What are some great ways to serve pierogies?  \n",
       "268694  Clash of Clans: How can I make my base stronge...  \n",
       "232503  Which is better to join as a fresher: Cognizan...  "
      ]
     },
     "execution_count": 31,
     "metadata": {},
     "output_type": "execute_result"
    }
   ],
   "source": [
    "ques_df = new_df[['question1','question2']]\n",
    "ques_df.head()"
   ]
  },
  {
   "cell_type": "code",
   "execution_count": 32,
   "id": "184dd9ca",
   "metadata": {},
   "outputs": [
    {
     "name": "stdout",
     "output_type": "stream",
     "text": [
      "(30000, 8)\n"
     ]
    },
    {
     "data": {
      "text/html": [
       "<div>\n",
       "<style scoped>\n",
       "    .dataframe tbody tr th:only-of-type {\n",
       "        vertical-align: middle;\n",
       "    }\n",
       "\n",
       "    .dataframe tbody tr th {\n",
       "        vertical-align: top;\n",
       "    }\n",
       "\n",
       "    .dataframe thead th {\n",
       "        text-align: right;\n",
       "    }\n",
       "</style>\n",
       "<table border=\"1\" class=\"dataframe\">\n",
       "  <thead>\n",
       "    <tr style=\"text-align: right;\">\n",
       "      <th></th>\n",
       "      <th>is_duplicate</th>\n",
       "      <th>q1_len</th>\n",
       "      <th>q2_len</th>\n",
       "      <th>q1_num_words</th>\n",
       "      <th>q2_num_words</th>\n",
       "      <th>word_common</th>\n",
       "      <th>word_total</th>\n",
       "      <th>word_share</th>\n",
       "    </tr>\n",
       "  </thead>\n",
       "  <tbody>\n",
       "    <tr>\n",
       "      <th>297803</th>\n",
       "      <td>0</td>\n",
       "      <td>46</td>\n",
       "      <td>40</td>\n",
       "      <td>10</td>\n",
       "      <td>9</td>\n",
       "      <td>4</td>\n",
       "      <td>19</td>\n",
       "      <td>0.21</td>\n",
       "    </tr>\n",
       "    <tr>\n",
       "      <th>99927</th>\n",
       "      <td>1</td>\n",
       "      <td>65</td>\n",
       "      <td>47</td>\n",
       "      <td>9</td>\n",
       "      <td>8</td>\n",
       "      <td>6</td>\n",
       "      <td>16</td>\n",
       "      <td>0.38</td>\n",
       "    </tr>\n",
       "    <tr>\n",
       "      <th>175435</th>\n",
       "      <td>1</td>\n",
       "      <td>25</td>\n",
       "      <td>44</td>\n",
       "      <td>5</td>\n",
       "      <td>8</td>\n",
       "      <td>1</td>\n",
       "      <td>13</td>\n",
       "      <td>0.08</td>\n",
       "    </tr>\n",
       "    <tr>\n",
       "      <th>268694</th>\n",
       "      <td>0</td>\n",
       "      <td>60</td>\n",
       "      <td>64</td>\n",
       "      <td>12</td>\n",
       "      <td>12</td>\n",
       "      <td>2</td>\n",
       "      <td>24</td>\n",
       "      <td>0.08</td>\n",
       "    </tr>\n",
       "    <tr>\n",
       "      <th>232503</th>\n",
       "      <td>0</td>\n",
       "      <td>81</td>\n",
       "      <td>61</td>\n",
       "      <td>15</td>\n",
       "      <td>11</td>\n",
       "      <td>8</td>\n",
       "      <td>26</td>\n",
       "      <td>0.31</td>\n",
       "    </tr>\n",
       "  </tbody>\n",
       "</table>\n",
       "</div>"
      ],
      "text/plain": [
       "        is_duplicate  q1_len  q2_len  q1_num_words  q2_num_words  word_common  \\\n",
       "297803             0      46      40            10             9            4   \n",
       "99927              1      65      47             9             8            6   \n",
       "175435             1      25      44             5             8            1   \n",
       "268694             0      60      64            12            12            2   \n",
       "232503             0      81      61            15            11            8   \n",
       "\n",
       "        word_total  word_share  \n",
       "297803          19        0.21  \n",
       "99927           16        0.38  \n",
       "175435          13        0.08  \n",
       "268694          24        0.08  \n",
       "232503          26        0.31  "
      ]
     },
     "execution_count": 32,
     "metadata": {},
     "output_type": "execute_result"
    }
   ],
   "source": [
    "final_df = new_df.drop(columns=['id','qid1','qid2','question1','question2'])\n",
    "print(final_df.shape)\n",
    "final_df.head()"
   ]
  },
  {
   "cell_type": "code",
   "execution_count": 33,
   "id": "7fe43550",
   "metadata": {},
   "outputs": [],
   "source": [
    "from sklearn.feature_extraction.text import CountVectorizer\n",
    "# merge texts\n",
    "questions = list(ques_df['question1']) + list(ques_df['question2'])\n",
    "\n",
    "cv = CountVectorizer(max_features=3000)\n",
    "q1_arr, q2_arr = np.vsplit(cv.fit_transform(questions).toarray(),2)"
   ]
  },
  {
   "cell_type": "code",
   "execution_count": 34,
   "id": "10e14848",
   "metadata": {},
   "outputs": [
    {
     "data": {
      "text/plain": [
       "(30000, 6000)"
      ]
     },
     "execution_count": 34,
     "metadata": {},
     "output_type": "execute_result"
    }
   ],
   "source": [
    "temp_df1 = pd.DataFrame(q1_arr, index= ques_df.index)\n",
    "temp_df2 = pd.DataFrame(q2_arr, index= ques_df.index)\n",
    "temp_df = pd.concat([temp_df1, temp_df2], axis=1)\n",
    "temp_df.shape"
   ]
  },
  {
   "cell_type": "code",
   "execution_count": 35,
   "id": "ac4d8ebd",
   "metadata": {},
   "outputs": [
    {
     "name": "stdout",
     "output_type": "stream",
     "text": [
      "(30000, 6008)\n"
     ]
    },
    {
     "data": {
      "text/html": [
       "<div>\n",
       "<style scoped>\n",
       "    .dataframe tbody tr th:only-of-type {\n",
       "        vertical-align: middle;\n",
       "    }\n",
       "\n",
       "    .dataframe tbody tr th {\n",
       "        vertical-align: top;\n",
       "    }\n",
       "\n",
       "    .dataframe thead th {\n",
       "        text-align: right;\n",
       "    }\n",
       "</style>\n",
       "<table border=\"1\" class=\"dataframe\">\n",
       "  <thead>\n",
       "    <tr style=\"text-align: right;\">\n",
       "      <th></th>\n",
       "      <th>is_duplicate</th>\n",
       "      <th>q1_len</th>\n",
       "      <th>q2_len</th>\n",
       "      <th>q1_num_words</th>\n",
       "      <th>q2_num_words</th>\n",
       "      <th>word_common</th>\n",
       "      <th>word_total</th>\n",
       "      <th>word_share</th>\n",
       "      <th>0</th>\n",
       "      <th>1</th>\n",
       "      <th>...</th>\n",
       "      <th>2990</th>\n",
       "      <th>2991</th>\n",
       "      <th>2992</th>\n",
       "      <th>2993</th>\n",
       "      <th>2994</th>\n",
       "      <th>2995</th>\n",
       "      <th>2996</th>\n",
       "      <th>2997</th>\n",
       "      <th>2998</th>\n",
       "      <th>2999</th>\n",
       "    </tr>\n",
       "  </thead>\n",
       "  <tbody>\n",
       "    <tr>\n",
       "      <th>297803</th>\n",
       "      <td>0</td>\n",
       "      <td>46</td>\n",
       "      <td>40</td>\n",
       "      <td>10</td>\n",
       "      <td>9</td>\n",
       "      <td>4</td>\n",
       "      <td>19</td>\n",
       "      <td>0.21</td>\n",
       "      <td>0</td>\n",
       "      <td>1</td>\n",
       "      <td>...</td>\n",
       "      <td>0</td>\n",
       "      <td>0</td>\n",
       "      <td>0</td>\n",
       "      <td>0</td>\n",
       "      <td>0</td>\n",
       "      <td>0</td>\n",
       "      <td>0</td>\n",
       "      <td>0</td>\n",
       "      <td>0</td>\n",
       "      <td>0</td>\n",
       "    </tr>\n",
       "    <tr>\n",
       "      <th>99927</th>\n",
       "      <td>1</td>\n",
       "      <td>65</td>\n",
       "      <td>47</td>\n",
       "      <td>9</td>\n",
       "      <td>8</td>\n",
       "      <td>6</td>\n",
       "      <td>16</td>\n",
       "      <td>0.38</td>\n",
       "      <td>0</td>\n",
       "      <td>0</td>\n",
       "      <td>...</td>\n",
       "      <td>0</td>\n",
       "      <td>0</td>\n",
       "      <td>0</td>\n",
       "      <td>0</td>\n",
       "      <td>0</td>\n",
       "      <td>0</td>\n",
       "      <td>0</td>\n",
       "      <td>0</td>\n",
       "      <td>0</td>\n",
       "      <td>0</td>\n",
       "    </tr>\n",
       "    <tr>\n",
       "      <th>175435</th>\n",
       "      <td>1</td>\n",
       "      <td>25</td>\n",
       "      <td>44</td>\n",
       "      <td>5</td>\n",
       "      <td>8</td>\n",
       "      <td>1</td>\n",
       "      <td>13</td>\n",
       "      <td>0.08</td>\n",
       "      <td>0</td>\n",
       "      <td>0</td>\n",
       "      <td>...</td>\n",
       "      <td>0</td>\n",
       "      <td>0</td>\n",
       "      <td>0</td>\n",
       "      <td>0</td>\n",
       "      <td>0</td>\n",
       "      <td>0</td>\n",
       "      <td>0</td>\n",
       "      <td>0</td>\n",
       "      <td>0</td>\n",
       "      <td>0</td>\n",
       "    </tr>\n",
       "    <tr>\n",
       "      <th>268694</th>\n",
       "      <td>0</td>\n",
       "      <td>60</td>\n",
       "      <td>64</td>\n",
       "      <td>12</td>\n",
       "      <td>12</td>\n",
       "      <td>2</td>\n",
       "      <td>24</td>\n",
       "      <td>0.08</td>\n",
       "      <td>0</td>\n",
       "      <td>0</td>\n",
       "      <td>...</td>\n",
       "      <td>0</td>\n",
       "      <td>0</td>\n",
       "      <td>0</td>\n",
       "      <td>0</td>\n",
       "      <td>0</td>\n",
       "      <td>0</td>\n",
       "      <td>0</td>\n",
       "      <td>0</td>\n",
       "      <td>0</td>\n",
       "      <td>0</td>\n",
       "    </tr>\n",
       "    <tr>\n",
       "      <th>232503</th>\n",
       "      <td>0</td>\n",
       "      <td>81</td>\n",
       "      <td>61</td>\n",
       "      <td>15</td>\n",
       "      <td>11</td>\n",
       "      <td>8</td>\n",
       "      <td>26</td>\n",
       "      <td>0.31</td>\n",
       "      <td>0</td>\n",
       "      <td>0</td>\n",
       "      <td>...</td>\n",
       "      <td>0</td>\n",
       "      <td>0</td>\n",
       "      <td>0</td>\n",
       "      <td>0</td>\n",
       "      <td>0</td>\n",
       "      <td>0</td>\n",
       "      <td>0</td>\n",
       "      <td>0</td>\n",
       "      <td>0</td>\n",
       "      <td>0</td>\n",
       "    </tr>\n",
       "  </tbody>\n",
       "</table>\n",
       "<p>5 rows × 6008 columns</p>\n",
       "</div>"
      ],
      "text/plain": [
       "        is_duplicate  q1_len  q2_len  q1_num_words  q2_num_words  word_common  \\\n",
       "297803             0      46      40            10             9            4   \n",
       "99927              1      65      47             9             8            6   \n",
       "175435             1      25      44             5             8            1   \n",
       "268694             0      60      64            12            12            2   \n",
       "232503             0      81      61            15            11            8   \n",
       "\n",
       "        word_total  word_share  0  1  ...  2990  2991  2992  2993  2994  2995  \\\n",
       "297803          19        0.21  0  1  ...     0     0     0     0     0     0   \n",
       "99927           16        0.38  0  0  ...     0     0     0     0     0     0   \n",
       "175435          13        0.08  0  0  ...     0     0     0     0     0     0   \n",
       "268694          24        0.08  0  0  ...     0     0     0     0     0     0   \n",
       "232503          26        0.31  0  0  ...     0     0     0     0     0     0   \n",
       "\n",
       "        2996  2997  2998  2999  \n",
       "297803     0     0     0     0  \n",
       "99927      0     0     0     0  \n",
       "175435     0     0     0     0  \n",
       "268694     0     0     0     0  \n",
       "232503     0     0     0     0  \n",
       "\n",
       "[5 rows x 6008 columns]"
      ]
     },
     "execution_count": 35,
     "metadata": {},
     "output_type": "execute_result"
    }
   ],
   "source": [
    "final_df = pd.concat([final_df, temp_df], axis=1)\n",
    "print(final_df.shape)\n",
    "final_df.head()"
   ]
  },
  {
   "cell_type": "code",
   "execution_count": 36,
   "id": "71b6890f",
   "metadata": {},
   "outputs": [],
   "source": [
    "from sklearn.model_selection import train_test_split\n",
    "X_train,X_test,y_train,y_test = train_test_split(final_df.iloc[:,1:].values,final_df.iloc[:,0].values,test_size=0.2,random_state=1)"
   ]
  },
  {
   "cell_type": "code",
   "execution_count": 37,
   "id": "9f06c376",
   "metadata": {},
   "outputs": [
    {
     "data": {
      "text/plain": [
       "0.7591666666666667"
      ]
     },
     "execution_count": 37,
     "metadata": {},
     "output_type": "execute_result"
    }
   ],
   "source": [
    "from sklearn.ensemble import RandomForestClassifier\n",
    "from sklearn.metrics import accuracy_score\n",
    "rf = RandomForestClassifier()\n",
    "rf.fit(X_train,y_train)\n",
    "y_pred = rf.predict(X_test)\n",
    "accuracy_score(y_test,y_pred) bn bgfgvbt"
   ]
  },
  {
   "cell_type": "code",
   "execution_count": 38,
   "id": "3177df90",
   "metadata": {},
   "outputs": [
    {
     "data": {
      "text/plain": [
       "0.7578333333333334"
      ]
     },
     "execution_count": 38,
     "metadata": {},
     "output_type": "execute_result"
    }
   ],
   "source": [
    "from xgboost import XGBClassifier\n",
    "xgb = XGBClassifier()\n",
    "xgb.fit(X_train,y_train)\n",
    "y_pred = xgb.predict(X_test)\n",
    "accuracy_score(y_test,y_pred)"
   ]
  },
  {
   "cell_type": "code",
   "execution_count": null,
   "id": "e6d1cbf8",
   "metadata": {},
   "outputs": [],
   "source": []
  },
  {
   "cell_type": "code",
   "execution_count": null,
   "id": "a75b3061",
   "metadata": {},
   "outputs": [],
   "source": []
  },
  {
   "cell_type": "code",
   "execution_count": null,
   "id": "e74bf0e5",
   "metadata": {},
   "outputs": [],
   "source": []
  },
  {
   "cell_type": "code",
   "execution_count": null,
   "id": "a26fd674",
   "metadata": {},
   "outputs": [],
   "source": []
  },
  {
   "cell_type": "code",
   "execution_count": null,
   "id": "5aebba67",
   "metadata": {},
   "outputs": [],
   "source": []
  },
  {
   "cell_type": "code",
   "execution_count": null,
   "id": "443ea2aa",
   "metadata": {},
   "outputs": [],
   "source": []
  },
  {
   "cell_type": "code",
   "execution_count": null,
   "id": "0d6cdd8e",
   "metadata": {},
   "outputs": [],
   "source": []
  },
  {
   "cell_type": "code",
   "execution_count": null,
   "id": "d2a9d092",
   "metadata": {},
   "outputs": [],
   "source": []
  },
  {
   "cell_type": "code",
   "execution_count": null,
   "id": "31c58866",
   "metadata": {},
   "outputs": [],
   "source": []
  }
 ],
 "metadata": {
  "kernelspec": {
   "display_name": "Python 3 (ipykernel)",
   "language": "python",
   "name": "python3"
  },
  "language_info": {
   "codemirror_mode": {
    "name": "ipython",
    "version": 3
   },
   "file_extension": ".py",
   "mimetype": "text/x-python",
   "name": "python",
   "nbconvert_exporter": "python",
   "pygments_lexer": "ipython3",
   "version": "3.11.5"
  }
 },
 "nbformat": 4,
 "nbformat_minor": 5
}
